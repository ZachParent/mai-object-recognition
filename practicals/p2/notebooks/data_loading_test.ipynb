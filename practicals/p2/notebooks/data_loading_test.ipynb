{
 "cells": [
  {
   "cell_type": "code",
   "execution_count": null,
   "metadata": {},
   "outputs": [],
   "source": [
    "from data_load_test import *"
   ]
  },
  {
   "cell_type": "code",
   "execution_count": null,
   "metadata": {},
   "outputs": [],
   "source": [
    "\n",
    "# Ask for dataset directory\n",
    "data_dir = \"../data/00_raw\"\n",
    "\n",
    "# Setup paths\n",
    "data_paths = setup_fashionpedia(data_dir)\n",
    "\n",
    "# Load category mappings\n",
    "category_mappings = load_fashionpedia_categories(data_paths['train_ann_file'])\n",
    "print(f\"Total number of classes: {category_mappings['num_classes']}\")\n",
    "\n",
    "# Create data loaders\n",
    "train_loader, val_loader = create_data_loaders(data_paths, category_mappings, batch_size=4)\n",
    "\n",
    "print(f\"Number of training batches: {len(train_loader)}\")\n",
    "print(f\"Number of validation batches: {len(val_loader)}\")\n",
    "\n",
    "# Visualize a sample\n",
    "for images, masks in train_loader:\n",
    "    # Display the first image and mask in batch\n",
    "    visualize_segmentation(images[0], masks[0], category_mappings['id_to_name'])\n",
    "    break\n",
    "    "
   ]
  }
 ],
 "metadata": {
  "kernelspec": {
   "display_name": ".venv",
   "language": "python",
   "name": "python3"
  },
  "language_info": {
   "codemirror_mode": {
    "name": "ipython",
    "version": 3
   },
   "file_extension": ".py",
   "mimetype": "text/x-python",
   "name": "python",
   "nbconvert_exporter": "python",
   "pygments_lexer": "ipython3",
   "version": "3.12.4"
  }
 },
 "nbformat": 4,
 "nbformat_minor": 2
}
