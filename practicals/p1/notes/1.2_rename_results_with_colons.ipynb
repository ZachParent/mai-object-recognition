{
 "cells": [
  {
   "cell_type": "code",
   "execution_count": 2,
   "metadata": {},
   "outputs": [
    {
     "name": "stdout",
     "output_type": "stream",
     "text": [
      "Renamed: ../data/03_labels/12-batch_size: 32, learning_rate: 0.0001.csv -> ../data/03_labels/12-batch_size=32, learning_rate=0.0001.csv\n",
      "Renamed: ../data/03_labels/15-batch_size: 64, learning_rate: 0.0001.csv -> ../data/03_labels/15-batch_size=64, learning_rate=0.0001.csv\n",
      "Renamed: ../data/03_labels/11-batch_size: 16, learning_rate: 0.01.csv -> ../data/03_labels/11-batch_size=16, learning_rate=0.01.csv\n",
      "Renamed: ../data/03_labels/10-batch_size: 16, learning_rate: 0.001.csv -> ../data/03_labels/10-batch_size=16, learning_rate=0.001.csv\n",
      "Renamed: ../data/03_labels/14-batch_size: 32, learning_rate: 0.01.csv -> ../data/03_labels/14-batch_size=32, learning_rate=0.01.csv\n",
      "Renamed: ../data/03_labels/13-batch_size: 32, learning_rate: 0.001.csv -> ../data/03_labels/13-batch_size=32, learning_rate=0.001.csv\n",
      "Renamed: ../data/03_labels/09-batch_size: 16, learning_rate: 0.0001.csv -> ../data/03_labels/09-batch_size=16, learning_rate=0.0001.csv\n",
      "Renamed: ../data/03_labels/19-classifier_head: attention.csv -> ../data/03_labels/19-classifier_head=attention.csv\n",
      "Renamed: ../data/03_labels/17-batch_size: 64, learning_rate: 0.01.csv -> ../data/03_labels/17-batch_size=64, learning_rate=0.01.csv\n",
      "Renamed: ../data/03_labels/16-batch_size: 64, learning_rate: 0.001.csv -> ../data/03_labels/16-batch_size=64, learning_rate=0.001.csv\n",
      "Renamed: ../data/03_labels/18-classifier_head: ensemble.csv -> ../data/03_labels/18-classifier_head=ensemble.csv\n",
      "Renamed: ../data/01_histories/12-batch_size: 32, learning_rate: 0.0001.csv -> ../data/01_histories/12-batch_size=32, learning_rate=0.0001.csv\n",
      "Renamed: ../data/01_histories/15-batch_size: 64, learning_rate: 0.0001.csv -> ../data/01_histories/15-batch_size=64, learning_rate=0.0001.csv\n",
      "Renamed: ../data/01_histories/11-batch_size: 16, learning_rate: 0.01.csv -> ../data/01_histories/11-batch_size=16, learning_rate=0.01.csv\n",
      "Renamed: ../data/01_histories/10-batch_size: 16, learning_rate: 0.001.csv -> ../data/01_histories/10-batch_size=16, learning_rate=0.001.csv\n",
      "Renamed: ../data/01_histories/14-batch_size: 32, learning_rate: 0.01.csv -> ../data/01_histories/14-batch_size=32, learning_rate=0.01.csv\n",
      "Renamed: ../data/01_histories/13-batch_size: 32, learning_rate: 0.001.csv -> ../data/01_histories/13-batch_size=32, learning_rate=0.001.csv\n",
      "Renamed: ../data/01_histories/09-batch_size: 16, learning_rate: 0.0001.csv -> ../data/01_histories/09-batch_size=16, learning_rate=0.0001.csv\n",
      "Renamed: ../data/01_histories/19-classifier_head: attention.csv -> ../data/01_histories/19-classifier_head=attention.csv\n",
      "Renamed: ../data/01_histories/17-batch_size: 64, learning_rate: 0.01.csv -> ../data/01_histories/17-batch_size=64, learning_rate=0.01.csv\n",
      "Renamed: ../data/01_histories/16-batch_size: 64, learning_rate: 0.001.csv -> ../data/01_histories/16-batch_size=64, learning_rate=0.001.csv\n",
      "Renamed: ../data/01_histories/18-classifier_head: ensemble.csv -> ../data/01_histories/18-classifier_head=ensemble.csv\n"
     ]
    }
   ],
   "source": [
    "import os\n",
    "\n",
    "def rename_files_in_directory(directory):\n",
    "    for root, _, files in os.walk(directory):\n",
    "        for filename in files:\n",
    "            if \": \" in filename:\n",
    "                new_filename = filename.replace(\": \", \"=\")\n",
    "                old_file_path = os.path.join(root, filename)\n",
    "                new_file_path = os.path.join(root, new_filename)\n",
    "                os.rename(old_file_path, new_file_path)\n",
    "                print(f'Renamed: {old_file_path} -> {new_file_path}')\n",
    "\n",
    "# Directories to search\n",
    "directories = [\n",
    "    '../data/03_labels',\n",
    "    '../data/01_histories'\n",
    "]\n",
    "\n",
    "for directory in directories:\n",
    "    rename_files_in_directory(directory)"
   ]
  }
 ],
 "metadata": {
  "kernelspec": {
   "display_name": ".venv-or",
   "language": "python",
   "name": "python3"
  },
  "language_info": {
   "codemirror_mode": {
    "name": "ipython",
    "version": 3
   },
   "file_extension": ".py",
   "mimetype": "text/x-python",
   "name": "python",
   "nbconvert_exporter": "python",
   "pygments_lexer": "ipython3",
   "version": "3.12.7"
  }
 },
 "nbformat": 4,
 "nbformat_minor": 2
}
