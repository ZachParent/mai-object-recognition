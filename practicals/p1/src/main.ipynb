{
 "cells": [
  {
   "cell_type": "markdown",
   "metadata": {
    "id": "zDqDj4kC9sFJ"
   },
   "source": [
    "# Master course in Object Recognition\n",
    "## Practice 1\n",
    "\n",
    "### Title: Deep learning advanced architectures\n",
    "\n",
    "The goal is to practice advanced deep learning architectures for multi-label classification in [Pascal VOC dataset](http://host.robots.ox.ac.uk/pascal/VOC/voc2007/index.html). We specifically check ResNet50, Inception and MobileNet. We will see 1) how pretrained ResNet50 on imagenet performs on multi-label images, 2) how to modify classification head and 3) implementation of F1 metric.\n",
    "\n",
    "### NOTES\n",
    "\n",
    "- Hyperparameters are modifiable,\n",
    "- The dataset is PASCAL VOC 2012,\n",
    "- The code uses the KERAS library,\n",
    "- The code can run in google colab.\n",
    "- How to finetune on a pretrained model not included (i.e. freeze the pretrained network and train the head, then finetune everything),\n",
    "- No validation set has been defined. The test and validation sets are the same."
   ]
  },
  {
   "cell_type": "code",
   "execution_count": null,
   "metadata": {},
   "outputs": [],
   "source": [
    "# Imports\n",
    "\n",
    "import pandas as pd\n",
    "import time"
   ]
  },
  {
   "cell_type": "code",
   "execution_count": null,
   "metadata": {},
   "outputs": [],
   "source": [
    "# Importing from .py files\n",
    "\n",
    "from config import *\n",
    "from experiment_config import experiments\n",
    "from train_and_test import train_and_test\n",
    "from load_data import load_data, create_dataset\n",
    "from models import create_model"
   ]
  },
  {
   "cell_type": "code",
   "execution_count": null,
   "metadata": {},
   "outputs": [],
   "source": [
    "train_list = load_data(TRAIN_TXT)\n",
    "test_list = load_data(TEST_TXT)\n",
    "\n",
    "# Create dictionaries to store datasets for different batch sizes\n",
    "train_datasets = {}\n",
    "test_datasets = {}\n",
    "\n",
    "start_time = time.time()\n",
    "# Iterate over batch sizes and create datasets\n",
    "for batch_size in BATCH_SIZES:\n",
    "    train_datasets[batch_size] = create_dataset(\n",
    "        train_list, batch_size, is_training=True\n",
    "    )\n",
    "    test_datasets[batch_size] = create_dataset(test_list, batch_size, is_training=False)\n",
    "print(f\"Time taken to create datasets: {time.time() - start_time} seconds\")"
   ]
  },
  {
   "cell_type": "code",
   "execution_count": null,
   "metadata": {
    "id": "8ej9VbIk_Sfj"
   },
   "outputs": [],
   "source": [
    "# Run model experiments\n",
    "exp_name = \"model-experiments\"\n",
    "for exp in experiments[exp_name]:\n",
    "    \n",
    "    # Create the model\n",
    "    base_model, model = create_model(exp, exp_name)\n",
    "\n",
    "    train_dataset = train_datasets[exp.batch_size]\n",
    "    test_dataset = test_datasets[exp.batch_size]\n",
    "\n",
    "    train_and_test(\n",
    "        model, exp_name, exp, train_dataset, test_dataset, train_list, test_list\n",
    "    )"
   ]
  },
  {
   "cell_type": "code",
   "execution_count": null,
   "metadata": {},
   "outputs": [],
   "source": [
    "# Determine the best experiment of the 9 model experiments\n",
    "\n",
    "df = pd.read_csv(RESULTS_DIR / f\"model-experiments.csv\")\n",
    "best_id = df.loc[df[\"Test mAP\"].idxmax(), \"ID\"]\n",
    "\n",
    "best_model_experiment_config = next(\n",
    "    exp for exp in experiments[\"model-experiments\"] if exp.id == best_id\n",
    ")\n",
    "\n",
    "best_model_experiment_config"
   ]
  },
  {
   "cell_type": "code",
   "execution_count": null,
   "metadata": {},
   "outputs": [],
   "source": [
    "# Run hyperparameter experiments\n",
    "\n",
    "exp_name = \"hyperparameter-experiments\"\n",
    "for exp in experiments[exp_name]:\n",
    "\n",
    "    # Create the model\n",
    "    base_model, model = create_model(exp, exp_name, best_model_experiment_config)\n",
    "\n",
    "    train_dataset = train_datasets[exp.batch_size]\n",
    "    test_dataset = test_datasets[exp.batch_size]\n",
    "\n",
    "    train_and_test(\n",
    "        model, exp_name, exp, train_dataset, test_dataset, train_list, test_list\n",
    "    )"
   ]
  },
  {
   "cell_type": "code",
   "execution_count": null,
   "metadata": {},
   "outputs": [],
   "source": [
    "# Determine the best experiment of the 9 hyperparameter experiments\n",
    "\n",
    "df = pd.read_csv(RESULTS_DIR / f\"hyperparameter-experiments.csv\")\n",
    "best_id = df.loc[df[\"Test mAP\"].idxmax(), \"ID\"]\n",
    "\n",
    "best_hyperparameter_experiment_config = next(\n",
    "    exp for exp in experiments[\"hyperparameter-experiments\"] if exp.id == best_id\n",
    ")\n",
    "\n",
    "best_hyperparameter_experiment_config"
   ]
  },
  {
   "cell_type": "code",
   "execution_count": null,
   "metadata": {},
   "outputs": [],
   "source": [
    "# Run augmentation experiments\n",
    "\n",
    "exp_name = \"augmentation-experiments\"\n",
    "for exp in experiments[exp_name]:\n",
    "\n",
    "    # Create the model\n",
    "    base_model, model = create_model(exp, exp_name, best_hyperparameter_experiment_config)\n",
    "\n",
    "    train_dataset = train_datasets[exp.batch_size]\n",
    "    test_dataset = test_datasets[exp.batch_size]\n",
    "\n",
    "    train_and_test(\n",
    "        model, base_model, exp_name, exp, train_dataset, test_dataset, train_list, test_list\n",
    "    )"
   ]
  },
  {
   "cell_type": "code",
   "execution_count": null,
   "metadata": {},
   "outputs": [],
   "source": [
    "# Run classifier head experiments\n",
    "\n",
    "exp_name = \"classfier_head-experiments\"\n",
    "for exp in experiments[exp_name]:\n",
    "\n",
    "    # Create the model\n",
    "    base_model, model = create_model(exp, exp_name, best_hyperparameter_experiment_config)\n",
    "\n",
    "    train_dataset = train_datasets[exp.batch_size]\n",
    "    test_dataset = test_datasets[exp.batch_size]\n",
    "\n",
    "    train_and_test(\n",
    "        model, exp_name, exp, train_dataset, test_dataset, train_list, test_list\n",
    "    )"
   ]
  },
  {
   "cell_type": "code",
   "execution_count": null,
   "metadata": {},
   "outputs": [],
   "source": []
  }
 ],
 "metadata": {
  "accelerator": "GPU",
  "colab": {
   "provenance": []
  },
  "gpuClass": "standard",
  "kernelspec": {
   "display_name": ".venv-or",
   "language": "python",
   "name": "python3"
  },
  "language_info": {
   "codemirror_mode": {
    "name": "ipython",
    "version": 3
   },
   "file_extension": ".py",
   "mimetype": "text/x-python",
   "name": "python",
   "nbconvert_exporter": "python",
   "pygments_lexer": "ipython3",
   "version": "3.12.7"
  }
 },
 "nbformat": 4,
 "nbformat_minor": 0
}
